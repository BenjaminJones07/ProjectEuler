{
 "cells": [
  {
   "cell_type": "code",
   "execution_count": 12,
   "metadata": {},
   "outputs": [
    {
     "name": "stdout",
     "output_type": "stream",
     "text": [
      "104743\n"
     ]
    }
   ],
   "source": [
    "primes = [2]\n",
    "\n",
    "while len(primes) < 10001:\n",
    "    for x in range(max(primes), 100000000000):\n",
    "        prime = True\n",
    "        for y in primes:\n",
    "            if x % y == 0:\n",
    "                prime = False\n",
    "                break\n",
    "        if prime:\n",
    "            primes.append(x)\n",
    "            break\n",
    "    \n",
    "print(primes[10000])"
   ]
  },
  {
   "cell_type": "markdown",
   "metadata": {},
   "source": [
    "104743 is the 10,001st prime number"
   ]
  }
 ],
 "metadata": {
  "interpreter": {
   "hash": "6a3e34e222189c0756ab50c7e38e19053e0db080afbca923812458338f6ccb54"
  },
  "kernelspec": {
   "display_name": "Python 3.8.10 64-bit (windows store)",
   "language": "python",
   "name": "python3"
  },
  "language_info": {
   "codemirror_mode": {
    "name": "ipython",
    "version": 3
   },
   "file_extension": ".py",
   "mimetype": "text/x-python",
   "name": "python",
   "nbconvert_exporter": "python",
   "pygments_lexer": "ipython3",
   "version": "3.8.10"
  },
  "orig_nbformat": 4
 },
 "nbformat": 4,
 "nbformat_minor": 2
}
