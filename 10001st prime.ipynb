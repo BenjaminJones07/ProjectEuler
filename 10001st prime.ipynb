{
 "cells": [
  {
   "cell_type": "code",
   "execution_count": 2,
   "metadata": {},
   "outputs": [],
   "source": [
    "primes = [2]\r\n",
    "\r\n",
    "while len(primes) < 100000:\r\n",
    "    for x in range(max(primes), 100000000000):\r\n",
    "        prime = True\r\n",
    "        for y in primes:\r\n",
    "            if x % y == 0:\r\n",
    "                prime = False\r\n",
    "                break\r\n",
    "        if prime:\r\n",
    "            primes.append(x)\r\n",
    "            break\r\n",
    "    \r\n",
    "print(primes[99999])"
   ]
  },
  {
   "cell_type": "markdown",
   "metadata": {},
   "source": [
    "104743 is the 10,001st prime number"
   ]
  }
 ],
 "metadata": {
  "interpreter": {
   "hash": "ac59ebe37160ed0dfa835113d9b8498d9f09ceb179beaac4002f036b9467c963"
  },
  "kernelspec": {
   "display_name": "Python 3.9.7 64-bit",
   "name": "python3"
  },
  "language_info": {
   "codemirror_mode": {
    "name": "ipython",
    "version": 3
   },
   "file_extension": ".py",
   "mimetype": "text/x-python",
   "name": "python",
   "nbconvert_exporter": "python",
   "pygments_lexer": "ipython3",
   "version": "3.9.7"
  },
  "orig_nbformat": 4
 },
 "nbformat": 4,
 "nbformat_minor": 2
}