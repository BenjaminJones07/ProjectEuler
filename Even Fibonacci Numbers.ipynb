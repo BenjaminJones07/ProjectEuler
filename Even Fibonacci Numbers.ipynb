{
 "cells": [
  {
   "cell_type": "code",
   "execution_count": 1,
   "metadata": {},
   "outputs": [
    {
     "name": "stdout",
     "output_type": "stream",
     "text": [
      "4613732\n"
     ]
    }
   ],
   "source": [
    "a, b, total = 1, 1, 0\n",
    "while b < 4000000:\n",
    "    tmp = a + b\n",
    "    a, b = b, tmp\n",
    "    total = total + b if b % 2 == 0 else total\n",
    "    \n",
    "print(total)"
   ]
  },
  {
   "cell_type": "markdown",
   "metadata": {},
   "source": [
    "4613732 is correct"
   ]
  }
 ],
 "metadata": {
  "interpreter": {
   "hash": "6a3e34e222189c0756ab50c7e38e19053e0db080afbca923812458338f6ccb54"
  },
  "kernelspec": {
   "display_name": "Python 3.8.10 64-bit (windows store)",
   "language": "python",
   "name": "python3"
  },
  "language_info": {
   "codemirror_mode": {
    "name": "ipython",
    "version": 3
   },
   "file_extension": ".py",
   "mimetype": "text/x-python",
   "name": "python",
   "nbconvert_exporter": "python",
   "pygments_lexer": "ipython3",
   "version": "3.8.10"
  },
  "orig_nbformat": 4
 },
 "nbformat": 4,
 "nbformat_minor": 2
}
