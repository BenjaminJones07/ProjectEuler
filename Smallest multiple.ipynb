{
 "cells": [
  {
   "cell_type": "code",
   "execution_count": 9,
   "metadata": {},
   "outputs": [
    {
     "name": "stdout",
     "output_type": "stream",
     "text": [
      "232792560\n"
     ]
    }
   ],
   "source": [
    "divisible = lambda x, y: x % y == 0\n",
    "\n",
    "for x in range(20, 1000000):\n",
    "    if all([divisible(x, y) for y in range(1, 21)]):\n",
    "        print(x)\n",
    "        break"
   ]
  },
  {
   "cell_type": "markdown",
   "metadata": {},
   "source": [
    "Optimisations:\n",
    "\n",
    "Step by 20\n",
    "\n",
    "20 - 2, 2, 5\n",
    "19 - 19\n",
    "18 - 2, 3, 3\n",
    "17 - 17\n",
    "16 - 2, 2, 2, 2\n",
    "15 - 3, 5\n",
    "14 - 2, 7\n",
    "13 - 13\n",
    "12 - 2, 2, 3\n",
    "11 - 11\n",
    "!10 - 2, 5\n",
    "9 - 3, 3\n",
    "!8 - 2, 2, 2\n",
    "!7 - 7\n",
    "!6 - 2, 3\n",
    "!5 - 5\n",
    "!4 - 2, 2\n",
    "!3 - 3\n",
    "!2 - 2\n",
    "\n",
    "Only check 20, 19, 18, 17, 16, 15, 14, 13, 12, 11, and 9"
   ]
  },
  {
   "cell_type": "code",
   "execution_count": 10,
   "metadata": {},
   "outputs": [
    {
     "name": "stdout",
     "output_type": "stream",
     "text": [
      "232792560\n"
     ]
    }
   ],
   "source": [
    "divisible = lambda x, y: x % y == 0\n",
    "\n",
    "non_covered = [9, 11, 12, 13, 14, 15, 16, 17, 18, 19, 20]\n",
    "\n",
    "for x in range(20, 100000000, 20):\n",
    "    if all([divisible(x, y) for y in non_covered]):\n",
    "        print(x)\n",
    "        break"
   ]
  },
  {
   "cell_type": "markdown",
   "metadata": {},
   "source": [
    "232792560 is correct"
   ]
  }
 ],
 "metadata": {
  "interpreter": {
   "hash": "ac59ebe37160ed0dfa835113d9b8498d9f09ceb179beaac4002f036b9467c963"
  },
  "kernelspec": {
   "display_name": "Python 3.9.7 64-bit",
   "name": "python3"
  },
  "language_info": {
   "codemirror_mode": {
    "name": "ipython",
    "version": 3
   },
   "file_extension": ".py",
   "mimetype": "text/x-python",
   "name": "python",
   "nbconvert_exporter": "python",
   "pygments_lexer": "ipython3",
   "version": "3.8.10"
  },
  "orig_nbformat": 4
 },
 "nbformat": 4,
 "nbformat_minor": 2
}
