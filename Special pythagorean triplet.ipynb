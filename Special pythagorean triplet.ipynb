{
 "cells": [
  {
   "cell_type": "code",
   "execution_count": 19,
   "metadata": {},
   "outputs": [
    {
     "name": "stdout",
     "output_type": "stream",
     "text": [
      "a: 269.0058479532164, b: 316, c: 414.9941520467836\n",
      "a: 226.00619195046437, b: 354, c: 419.99380804953563\n",
      "a: 183.0065359477124, b: 388, c: 428.99346405228755\n",
      "a: 31.007751937984523, b: 484, c: 484.9922480620155\n",
      "Done\n"
     ]
    }
   ],
   "source": [
    "import math\n",
    "\n",
    "def f(a, b, l):\n",
    "    return b*a + (10**3 * l) - (5 * 10**5)\n",
    "\n",
    "def fd(a, b, l):\n",
    "    return b + (10**3 * a)/l\n",
    "\n",
    "for b in range(1000):\n",
    "    err = False\n",
    "    a = b/2\n",
    "    for i in range(40):\n",
    "        if a > b or a < 0:\n",
    "            err = True\n",
    "            break\n",
    "        \n",
    "        l = math.sqrt(a**2 + b**2)\n",
    "        \n",
    "        try: a = a - f(a, b, l)/fd(a, b, l)\n",
    "        except:\n",
    "            err = True\n",
    "            break\n",
    "    \n",
    "    if err == True: continue\n",
    "    if abs(float(int(a)) - a) > 0.01: continue\n",
    "        \n",
    "    t = f(a, b, math.sqrt(a**2 + b**2))\n",
    "    if abs(t) < 0.01:\n",
    "        print(f\"a: {a}, b: {b}, c: {math.sqrt(a**2 + b**2)}\")\n",
    "    # print(f\"b{b} nah\")\n",
    "    \n",
    "print(\"Done\")"
   ]
  },
  {
   "cell_type": "code",
   "execution_count": 12,
   "metadata": {},
   "outputs": [
    {
     "name": "stdout",
     "output_type": "stream",
     "text": [
      "200 375 425\n"
     ]
    }
   ],
   "source": [
    "for b in range(5 * (10 ** 2)):\n",
    "    for a in range(b):\n",
    "        c = math.sqrt(a**2 + b**2)\n",
    "        if abs(float(int(c)) - c) < 0.001:\n",
    "            if abs(a+b+c-1000) < 0.01:\n",
    "                if b < c:\n",
    "                    print(a, b, int(c))"
   ]
  }
 ],
 "metadata": {
  "kernelspec": {
   "display_name": "Python 3.8.10 64-bit (windows store)",
   "language": "python",
   "name": "python3"
  },
  "language_info": {
   "codemirror_mode": {
    "name": "ipython",
    "version": 3
   },
   "file_extension": ".py",
   "mimetype": "text/x-python",
   "name": "python",
   "nbconvert_exporter": "python",
   "pygments_lexer": "ipython3",
   "version": "3.8.10"
  },
  "orig_nbformat": 4,
  "vscode": {
   "interpreter": {
    "hash": "95a22eaad15357b8581a3e85dc7deb44b392b83f2a0c98c7572069d11874febe"
   }
  }
 },
 "nbformat": 4,
 "nbformat_minor": 2
}
