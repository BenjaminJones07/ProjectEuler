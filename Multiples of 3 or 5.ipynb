{
 "cells": [
  {
   "cell_type": "code",
   "execution_count": 10,
   "metadata": {},
   "outputs": [
    {
     "name": "stdout",
     "output_type": "stream",
     "text": [
      "165834 : 99500\n",
      "265334\n"
     ]
    }
   ],
   "source": [
    "sumOfK = lambda k: sum([x*k for x in range(1, int(1000/k))])\n",
    "threes, fives = sumOfK(3), sumOfK(5)\n",
    "print(threes, \":\", fives)\n",
    "print(threes + fives)"
   ]
  },
  {
   "cell_type": "markdown",
   "metadata": {},
   "source": [
    "Using different algorithm to generate multiples"
   ]
  },
  {
   "cell_type": "code",
   "execution_count": 12,
   "metadata": {},
   "outputs": [
    {
     "name": "stdout",
     "output_type": "stream",
     "text": [
      "166833 : 100500\n",
      "267333\n"
     ]
    }
   ],
   "source": [
    "sumOfK2 = lambda k: sum([x for x in range(k, 1001, k)])\n",
    "threes, fives = sumOfK2(3), sumOfK2(5)\n",
    "print(threes, \":\", fives)\n",
    "print(threes + fives)"
   ]
  },
  {
   "cell_type": "markdown",
   "metadata": {},
   "source": [
    "Removing duplicates"
   ]
  },
  {
   "cell_type": "code",
   "execution_count": 18,
   "metadata": {},
   "outputs": [
    {
     "name": "stdout",
     "output_type": "stream",
     "text": [
      "231174\n"
     ]
    }
   ],
   "source": [
    "sumOfK = lambda k: [x*k for x in range(1, int(1000/k))]\n",
    "sumOfK2 = lambda k: [x for x in range(k, 1001, k)]\n",
    "threes, fives = sumOfK(3), sumOfK(5)\n",
    "print(sum(set(threes + fives)))"
   ]
  },
  {
   "cell_type": "markdown",
   "metadata": {},
   "source": [
    "Getting multiples BELOW 1000"
   ]
  },
  {
   "cell_type": "code",
   "execution_count": 20,
   "metadata": {},
   "outputs": [
    {
     "name": "stdout",
     "output_type": "stream",
     "text": [
      "166833 : 99500\n",
      "266333\n"
     ]
    }
   ],
   "source": [
    "sumOfK3 = lambda k: sum([x for x in range(k, 1000, k)])\n",
    "threes, fives = sumOfK3(3), sumOfK3(5)\n",
    "print(threes, \":\", fives)\n",
    "print(threes + fives)"
   ]
  },
  {
   "cell_type": "markdown",
   "metadata": {},
   "source": [
    "Implementing \"Remove duplicates\" system"
   ]
  },
  {
   "cell_type": "code",
   "execution_count": 22,
   "metadata": {},
   "outputs": [
    {
     "name": "stdout",
     "output_type": "stream",
     "text": [
      "233168\n"
     ]
    }
   ],
   "source": [
    "sumOfK3 = lambda k: [x for x in range(k, 1000, k)]\n",
    "threes, fives = sumOfK3(3), sumOfK3(5)\n",
    "both = sum(set(threes + fives))\n",
    "print(both)"
   ]
  },
  {
   "cell_type": "markdown",
   "metadata": {},
   "source": [
    "233168 is correct"
   ]
  }
 ],
 "metadata": {
  "interpreter": {
   "hash": "6a3e34e222189c0756ab50c7e38e19053e0db080afbca923812458338f6ccb54"
  },
  "kernelspec": {
   "display_name": "Python 3.8.10 64-bit (windows store)",
   "language": "python",
   "name": "python3"
  },
  "language_info": {
   "codemirror_mode": {
    "name": "ipython",
    "version": 3
   },
   "file_extension": ".py",
   "mimetype": "text/x-python",
   "name": "python",
   "nbconvert_exporter": "python",
   "pygments_lexer": "ipython3",
   "version": "3.8.10"
  },
  "orig_nbformat": 4
 },
 "nbformat": 4,
 "nbformat_minor": 2
}
